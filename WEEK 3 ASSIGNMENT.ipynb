{
 "cells": [
  {
   "cell_type": "code",
   "execution_count": null,
   "metadata": {},
   "outputs": [],
   "source": [
    "# Area of a rectangle\n",
    "l = int(input('Please insert a value:'))\n",
    "b = int(input('Please insert a value:'))\n",
    "Area = l*b\n",
    "print(Area)\n",
    "\n",
    "#Area of a circle\n",
    "r = int(input('Please insert a value'))\n",
    "pi = float(input('Please insert a value'))\n",
    "Area = pi * (r ** 2)\n",
    "print(Area)"
   ]
  },
  {
   "cell_type": "code",
   "execution_count": null,
   "metadata": {},
   "outputs": [],
   "source": [
    "#Simple Interest\n",
    "principal = int(input('Please insert a value:'))\n",
    "time = int(input('Please insert a value:'))\n",
    "rate = float(input('Please insert a value:'))\n",
    "simple_interest = (principal *rate *time)/100\n",
    "print(simple_interest)\n",
    "total_amount = simple_interest + principal\n",
    "print(total_amount)"
   ]
  },
  {
   "cell_type": "code",
   "execution_count": null,
   "metadata": {},
   "outputs": [],
   "source": [
    "#Daily activity\n",
    "weekday =['Monday', 'Tuesday', 'Wednesday', 'Thursday', 'Friday']\n",
    "weekend = ['Saturday', 'Sunday']\n",
    "day = input('What day is it today: ')\n",
    "if day in weekday:\n",
    "    print('Go to school')\n",
    "else:\n",
    "        print('Go for Shopping', 'Do general cleaning')"
   ]
  },
  {
   "cell_type": "code",
   "execution_count": null,
   "metadata": {},
   "outputs": [],
   "source": [
    "#Atm program\n",
    "Account_Balance = 15000\n",
    "print('Welcome to First Bank')\n",
    "print('Oluwafunmilayo Owolabi')\n",
    "Pin = input('Please enter your pin: ')\n",
    "Transaction =input('What transaction do you want to perform? \\n(a) Enquiry \\n(b) Cash Withdrawal \\n(c) Airtime recharge \\n(d) Transfer \\n(e)Pay Bills \\n')\n",
    "Account_type =input('Enter Account type \\n(a) Current \\n(b) Savings \\n')\n",
    "Amount = ('Select an amount \\n(a) 500 \\n(b) 1000 \\n(c) 5000 \\n(d) 10,000 \\n(e) 15,000 \\n(f) Others \\n')\n",
    "if (Transaction.lower() =='a'):\n",
    "    print('Please wait while your transaction is processing')\n",
    "    print('Ledger Balance = ',  (Account_Balance))\n",
    "    print('Thank you for banking with Us')\n",
    "    \n",
    "if (Transaction.lower() == 'b'):\n",
    "        Amount == input('Select an amount to withdraw: \\n(a) 500 \\n(b) 1,000 \\n(c) 5,000 \\n(d) 10,000 \\n(e) 15,000 \\n(f) Others \\n')\n",
    "if Amount =='a' or Amount == 'b' or Amount == 'c' or Amount == 'd' or Amount =='e':\n",
    "        print('Please wait while your transaction is processing.......')\n",
    "        print('Take your cash')\n",
    "        print('Thank you for banking with Us')            \n",
    "else:\n",
    "        print()\n",
    "        other_amount = (int(input('Enter amount to withdraw:')))\n",
    "        if other_amount <= Account_Balance:\n",
    "            print('Please wait while your transaction is processing.......')\n",
    "            print('Please take your cash')\n",
    "            print('Thank you for banking with Us')      \n",
    "        elif other_amount > Account_Balance:\n",
    "            print('Insufficent Funds')\n",
    "            print('Thank you for banking with Us')\n",
    "            \n",
    "            \n",
    "        if(Transaction.lower() == 'c'):\n",
    "            print(input(\"Select Recepient Network: \\n(a) Airtel \\n(b) MTN \\n(c) GLO \\n(d) Airtel\\n\"))\n",
    "        print(input(\"Select Amount to Recharge \\n(a) 500 \\n(b) 1000 \\n(c) 2000 \\n(d) 5000\\n\"))\n",
    "        print(input('Please enter recepient phone number'))\n",
    "        print('Please wait while your transaction is processing')\n",
    "        print('Recharge Sucessful')\n",
    "        print('Thank you for banking with us')\n",
    "        \n",
    "        \n",
    "        if(Transaction.lower() == 'd'):\n",
    "            Transfer = input('Select Bank of Recepient \\n(a) GTBank \\n(b) Zenith Bank \\n(c) Ecobank \\n(d) FCMB\\n ')\n",
    "            Account_Number = int(input('Enter Recepient Account number:'))\n",
    "        Amount_to_transfer = int(input('Amount to transfer:'))\n",
    "if Amount_to_transfer <= Account_Balance:\n",
    "        print('Please wait while your transaction is processing.......')\n",
    "        print('Transfer Successful')\n",
    "elif Amount_to_transfer > Account_Balance:\n",
    "        print('Insufficient Funds')\n",
    "        \n",
    "    "
   ]
  },
  {
   "cell_type": "code",
   "execution_count": null,
   "metadata": {},
   "outputs": [],
   "source": [
    "#Resturant menu program\n",
    "print('Hi! Welcome to Varieties Kitchen. what will you like to have?')\n",
    "name = input('Your name please?')\n",
    "print('We are glad to have you', name)\n",
    "print('Here is our menu. Kindly go through it then place your order')\n",
    "menu =input('\\n(a) Banga and Starch \\n(b)Egusi and Pounded yam \\n(c) Eforiro and amala \\n(d) Fried rice \\n(e) sandwich \\n')\n",
    "Payment = ('Kindly make payments. Enjoy your meal')\n",
    "if menu.lower() == 'a':\n",
    "    print('Lovely! ' + Payment )\n",
    "elif(menu.lower() == 'b'):\n",
    "    print('Nice one' + Payment )\n",
    "elif(menu.lower() == 'c'):\n",
    "    print('Fantastic' + Payment)\n",
    "elif(menu.lower() =='d'):\n",
    "    print('Yummy' + Payment )\n",
    "else:\n",
    "    print('French fries is not available at the moment. If you do not mind, kindly place an order for something else')"
   ]
  }
 ],
 "metadata": {
  "kernelspec": {
   "display_name": "Python 3",
   "language": "python",
   "name": "python3"
  },
  "language_info": {
   "codemirror_mode": {
    "name": "ipython",
    "version": 3
   },
   "file_extension": ".py",
   "mimetype": "text/x-python",
   "name": "python",
   "nbconvert_exporter": "python",
   "pygments_lexer": "ipython3",
   "version": "3.7.6"
  }
 },
 "nbformat": 4,
 "nbformat_minor": 4
}
